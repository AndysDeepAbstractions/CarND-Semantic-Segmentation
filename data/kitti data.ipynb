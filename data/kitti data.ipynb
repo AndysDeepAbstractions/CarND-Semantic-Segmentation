{
 "cells": [
  {
   "cell_type": "code",
   "execution_count": 4,
   "metadata": {
    "collapsed": false
   },
   "outputs": [
    {
     "data": {
      "text/html": [
       "\n",
       "          <script src=\"/static/components/requirejs/require.js\"></script>\n",
       "          <script>\n",
       "            requirejs.config({\n",
       "              paths: {\n",
       "                base: '/static/base',\n",
       "              },\n",
       "            });\n",
       "          </script>\n",
       "          "
      ],
      "text/plain": [
       "<IPython.core.display.HTML object>"
      ]
     },
     "metadata": {},
     "output_type": "display_data"
    },
    {
     "name": "stdout",
     "output_type": "stream",
     "text": []
    }
   ],
   "source": [
    "import os\n",
    "import requests\n",
    "\n",
    "def download_file(URL, destination):\n",
    "    session = requests.Session()\n",
    "    response = session.get(URL)\n",
    "    save_response_content(response, destination)    \n",
    "\n",
    "def save_response_content(response, destination):\n",
    "    CHUNK_SIZE = 32768\n",
    "\n",
    "    with open(destination, \"wb\") as f:\n",
    "        for chunk in response.iter_content(CHUNK_SIZE):\n",
    "            if chunk: # filter out keep-alive new chunks\n",
    "                f.write(chunk)\n",
    "\n",
    "def unzip(filename):\n",
    "    import zipfile\n",
    "\n",
    "    with zipfile.ZipFile(filename,\"r\") as zf:\n",
    "        zf = zipfile.ZipFile(filename)\n",
    "        uncompress_size = sum((file.file_size for file in zf.infolist()))\n",
    "        extracted_size = 0\n",
    "        for file in zf.infolist():\n",
    "            extracted_size += file.file_size\n",
    "            print((extracted_size / uncompress_size), end='\\r',flush=True)\n",
    "            zf.extract(file,path=extract_path)\n",
    "                \n",
    "url = ('http://kitti.is.tue.mpg.de/kitti/data_road.zip')\n",
    "filename = 'data_road.zip'\n",
    "extract_path = './'\n",
    "download_file(url,filename)\n",
    "unzip(filename)"
   ]
  },
  {
   "cell_type": "code",
   "execution_count": null,
   "metadata": {
    "collapsed": true
   },
   "outputs": [],
   "source": []
  },
  {
   "cell_type": "code",
   "execution_count": null,
   "metadata": {
    "collapsed": true
   },
   "outputs": [],
   "source": []
  }
 ],
 "metadata": {
  "kernelspec": {
   "display_name": "Python 3",
   "language": "python",
   "name": "python3"
  },
  "language_info": {
   "codemirror_mode": {
    "name": "ipython",
    "version": 3
   },
   "file_extension": ".py",
   "mimetype": "text/x-python",
   "name": "python",
   "nbconvert_exporter": "python",
   "pygments_lexer": "ipython3",
   "version": "3.5.2"
  }
 },
 "nbformat": 4,
 "nbformat_minor": 2
}
